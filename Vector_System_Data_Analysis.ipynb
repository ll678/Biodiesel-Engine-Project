{
  "nbformat": 4,
  "nbformat_minor": 0,
  "metadata": {
    "accelerator": "GPU",
    "colab": {
      "name": "Vector System Data Analysis.ipynb",
      "provenance": [],
      "collapsed_sections": []
    },
    "kernelspec": {
      "display_name": "Python 3",
      "name": "python3"
    }
  },
  "cells": [
    {
      "cell_type": "code",
      "metadata": {
        "id": "WYYv9qZckx1W"
      },
      "source": [
        "import pandas as pd\n",
        "import datetime\n",
        "import glob\n",
        "import matplotlib.pyplot as plt\n",
        "import numpy as np"
      ],
      "execution_count": null,
      "outputs": []
    },
    {
      "cell_type": "code",
      "metadata": {
        "id": "jC6vsp6OfjTW"
      },
      "source": [
        "# Import Vector System Log .csv files from the Optimus Portal and concatenate into pandas dataframe\n",
        "\n",
        "all_files = glob.glob(\"/VS_data/*.csv\")  \n",
        "df_from_each_file = (pd.concat([pd.read_csv(f), pd.DataFrame([0])], ignore_index=True) for f in all_files)\n",
        "all_data = pd.concat(df_from_each_file, ignore_index=True)"
      ],
      "execution_count": null,
      "outputs": []
    },
    {
      "cell_type": "code",
      "metadata": {
        "colab": {
          "background_save": true
        },
        "id": "8x6gSVxkmxoq"
      },
      "source": [
        "# Parse data, extract the following information as dictionaries: \n",
        "# Vehicle state: 2 (diesel), 3 (warming up), or 4(biodiesel)\n",
        "# Start time and end time of each state\n",
        "# Ambient temperature\n",
        "# B100 fuel temperature\n",
        "\n",
        "data_array = []\n",
        "j = 0\n",
        "for index, row in all_data.iterrows():\n",
        "  start_time = all_data.iloc[j]['Timestamp(UTC)']\n",
        "  state = all_data.iloc[j]['Vehicle_State']\n",
        "  temp = all_data.iloc[j]['Ambient_Temp(F)']\n",
        "  if (all_data.iloc[index]['Vehicle_State'] != all_data.iloc[index - 1]['Vehicle_State']) or (all_data.iloc[index]['Timestamp(UTC)'][:10] != all_data.iloc[index - 1]['Timestamp(UTC)'][:10]):\n",
        "    end_time = all_data.iloc[index - 1]['Timestamp(UTC)']\n",
        "    fuel_temp_in = all_data.iloc[index-1]['Fuel_Temp_In(F)']\n",
        "    fuel_temp_out = all_data.iloc[index-1]['Fuel_Temp_Out(F)']\n",
        "    data_array.append({\"state\": state, \"start time\": start_time, \"end time\": end_time, \"temp\": temp, \"fuel_temp_in\": fuel_temp_in, \"fuel_temp_out\": fuel_temp_out})\n",
        "    j = index"
      ],
      "execution_count": null,
      "outputs": []
    },
    {
      "cell_type": "code",
      "metadata": {
        "id": "zK3UZ_fiITHG"
      },
      "source": [
        "# Filter out data entries that are not cold start (first start of the day)\n",
        "def startup_only(array):\n",
        "  dates = {}\n",
        "  new_array = []\n",
        "  full_array = []\n",
        "  i = 0\n",
        "  while i < len(array):\n",
        "    d = array[i]\n",
        "    start = str(d['start time'])[:10]\n",
        "    if start not in dates:\n",
        "      dates[start] = 1\n",
        "      new_array.append(d)\n",
        "    elif dates[start] < 3:\n",
        "      dates[start] += 1\n",
        "      new_array.append(d)\n",
        "    i += 1\n",
        "  return new_array"
      ],
      "execution_count": null,
      "outputs": []
    },
    {
      "cell_type": "code",
      "metadata": {
        "id": "crgK6L2Bij-K"
      },
      "source": [
        "start_array = startup_only(data_array[1:])"
      ],
      "execution_count": null,
      "outputs": []
    },
    {
      "cell_type": "code",
      "metadata": {
        "id": "kjXANO9bstxx"
      },
      "source": [
        "# Filter out entries that are not the full warmup sequence from state 2 to state 3 to state 4\n",
        "# Returns data entries that reflect full warmup transition from diesel to biodiesel\n",
        "def filter(array):\n",
        "  filtered = []\n",
        "  i = 0\n",
        "  while (i < len(array)-2):\n",
        "    if (array[i]['state'] == 2.0) and (array[i+1]['state'] == 3.0) and (array[i+2]['state'] == 4.0):\n",
        "      filtered.append(array[i])\n",
        "      filtered.append(array[i+1])\n",
        "      filtered.append(array[i+2])\n",
        "      i += 3\n",
        "    else:\n",
        "      i += 1\n",
        "  return filtered"
      ],
      "execution_count": null,
      "outputs": []
    },
    {
      "cell_type": "code",
      "metadata": {
        "id": "xWjTRHW4ZTgb"
      },
      "source": [
        "# This function filters the data array to keep all 2-to-3 state sequences (i.e. VS begins warming up biodiesel but does not necessarily switch over)\n",
        "def filter_23(array):\n",
        "  filtered = []\n",
        "  i = 0\n",
        "  while (i < len(array)-2):\n",
        "    if (array[i]['state'] == 2.0) and (array[i+1]['state'] == 3.0) and (array[i+2]['state'] != 4.0):\n",
        "      filtered.append(array[i])\n",
        "      filtered.append(array[i+1])\n",
        "      # filtered.append(array[i+2])\n",
        "      i += 2\n",
        "    else:\n",
        "      i += 1\n",
        "  return filtered"
      ],
      "execution_count": null,
      "outputs": []
    },
    {
      "cell_type": "code",
      "metadata": {
        "id": "84npSwCaSMYZ"
      },
      "source": [
        "# Translates start and end times for each state into the time spent in each state\n",
        "def translate(array):\n",
        "  translated = []\n",
        "  for d in array:\n",
        "    s = d['start time']\n",
        "    e = d['end time']\n",
        "    start_time = datetime.datetime(year=int(s[:4]), month=int(s[5:7]), day=int(s[8:10]), hour=int(s[11:13]), minute=int(s[14:16]), second=int(s[17:19]))\n",
        "    end_time = datetime.datetime(year=int(e[:4]), month=int(e[5:7]), day=int(e[8:10]), hour=int(e[11:13]), minute=int(e[14:16]), second=int(e[17:19]))\n",
        "    delta = end_time - start_time\n",
        "    translated.append({'state': d['state'], 'duration': delta.seconds/60, 'temp': d['temp'], 'fuel_temp_in': d['fuel_temp_in'], 'fuel_temp_out': d['fuel_temp_out']})\n",
        "  return translated"
      ],
      "execution_count": null,
      "outputs": []
    },
    {
      "cell_type": "code",
      "metadata": {
        "id": "_QhXrC7zVXp8"
      },
      "source": [
        "final_23 = translate(filter_23(start_array))"
      ],
      "execution_count": null,
      "outputs": []
    },
    {
      "cell_type": "code",
      "metadata": {
        "id": "oOCFl7tXaoDo"
      },
      "source": [
        "final = translate(filter(start_array))"
      ],
      "execution_count": null,
      "outputs": []
    },
    {
      "cell_type": "code",
      "metadata": {
        "id": "A_qABdqEi43t"
      },
      "source": [
        "# Data points indicating full transition from diesel to biodiesel\n",
        "i = 0\n",
        "xpoints = []\n",
        "ypoints = []\n",
        "while i < len(final):\n",
        "  if final[i]['temp'] == 0:\n",
        "    xpoints.append(final[i+1]['temp'])\n",
        "  else:\n",
        "    xpoints.append(final[i]['temp'])\n",
        "  ypoints.append(final[i]['duration']+final[i+1]['duration']) # Total time spent in state 2 and 3\n",
        "  i += 3\n",
        "\n",
        "# plt.plot(xpoints, ypoints, linestyle = '', marker = 'o')\n",
        "# plt.show()"
      ],
      "execution_count": null,
      "outputs": []
    },
    {
      "cell_type": "code",
      "metadata": {
        "id": "qjQNGaQlyExV"
      },
      "source": [
        "# Data points indicating biodiesel warmup started but not necessarily completed/successful\n",
        "i = 0\n",
        "xpoints2 = []\n",
        "ypoints2 = []\n",
        "while i < len(final_23):\n",
        "  if final_23[i]['temp'] == 0:\n",
        "    xpoints2.append(final_23[i+1]['temp'])\n",
        "  else:\n",
        "    xpoints2.append(final_23[i]['temp'])\n",
        "  ypoints2.append(final_23[i]['duration']+final_23[i+1]['duration']) # Total time spent in state 2 and 3\n",
        "  i += 2\n",
        "\n",
        "# plt.plot(xpoints2, ypoints2, linestyle = '', marker = 'o')\n",
        "# plt.show()"
      ],
      "execution_count": null,
      "outputs": []
    },
    {
      "cell_type": "code",
      "metadata": {
        "colab": {
          "base_uri": "https://localhost:8080/",
          "height": 295
        },
        "id": "csEwavReh9av",
        "outputId": "4770ffdd-cc1e-446e-848b-514bbdbe2bba"
      },
      "source": [
        "# These extra data points were added based on operator log data, not included in the VS log files:\n",
        "xpoints += [28,24,39,34,24]\n",
        "ypoints += [91,82,60,68,74]\n",
        "\n",
        "plt.plot(xpoints, ypoints, linestyle = '', marker = 'o')\n",
        "plt.plot(xpoints2, ypoints2, linestyle = '', marker = 'o')\n",
        "x = np.arange(10,90)\n",
        "plt.plot(x, 189.38*np.exp(-0.038*x)) #exponential (R^2=0.88048)\n",
        "plt.legend([\"Switched to biodiesel\", \"Did not switch to biodiesel\"])#,\"Estimated time to switch from data\"])\n",
        "plt.title(\"Correlation between Biodiesel Warmup Time and Ambient Temperature\")\n",
        "plt.xlabel(\"Startup temperature (°F)\")\n",
        "plt.ylabel(\"Total warmup time (min)\")\n",
        "\n",
        "plt.show()"
      ],
      "execution_count": null,
      "outputs": [
        {
          "output_type": "display_data",
          "data": {
            "image/png": "[encoded data removed]",
            "text/plain": [
              "<Figure size 432x288 with 1 Axes>"
            ]
          },
          "metadata": {
            "tags": []
          }
        }
      ]
    },
    {
      "cell_type": "code",
      "metadata": {
        "colab": {
          "base_uri": "https://localhost:8080/",
          "height": 279
        },
        "id": "fgIGOOSMa4Ld",
        "outputId": "caede2ce-dcf1-479d-e640-1a80569bd009"
      },
      "source": [
        "# Plot biodiesel fuel temperatures to compare the temperatures between warmup transition (state 3) and using biodiesel (state 4)\n",
        "i = 0\n",
        "xpoints3 = []\n",
        "ypoints3 = []\n",
        "while i < len(final_23):\n",
        "  xpoints3.append(final_23[i]['temp'])\n",
        "  ypoints3.append(final_23[i+1]['fuel_temp_in']) \n",
        "  i += 2\n",
        "\n",
        "j = 0\n",
        "xpoints4 = []\n",
        "ypoints4 = []\n",
        "while j < len(final):\n",
        "  xpoints4.append(final[j]['temp'])\n",
        "  ypoints4.append(final[j+1]['fuel_temp_in']) \n",
        "  j += 3\n",
        "\n",
        "plt.plot(xpoints4, ypoints4, linestyle = '', marker = 'o')\n",
        "plt.plot(xpoints3, ypoints3, linestyle = '', marker = 'o')\n",
        "plt.legend([\"Switched to biodiesel\", \"Did not switch to biodiesel\"])\n",
        "plt.xlabel(\"Startup temperature (°F)\")\n",
        "plt.ylabel(\"Fuel temp in (state 3) (°F)\")\n",
        "\n",
        "plt.show()"
      ],
      "execution_count": null,
      "outputs": [
        {
          "output_type": "display_data",
          "data": {
            "image/png": "[encoded data removed]",
            "text/plain": [
              "<Figure size 432x288 with 1 Axes>"
            ]
          },
          "metadata": {
            "tags": []
          }
        }
      ]
    },
    {
      "cell_type": "code",
      "metadata": {
        "colab": {
          "base_uri": "https://localhost:8080/"
        },
        "id": "LJs9qfgpUI8i",
        "outputId": "2bf9458a-38ec-40e2-d933-1fede4d78350"
      },
      "source": [
        "# Use the warmup time correlation to predict the expected VS warmup time for each month in Ithaca based on average montly temperature\n",
        "def prediction(temp):\n",
        "  return 189.38*np.exp(-0.038*temp)\n",
        "\n",
        "jan = np.mean([27.9,16.5])\n",
        "feb = np.mean([30.9,17.8])\n",
        "mar = np.mean([39.9,25.0])\n",
        "apr = np.mean([52.7,35.2])\n",
        "may = np.mean([66.6,46.2])\n",
        "jun = np.mean([73.0,52.5])\n",
        "jul = np.mean([78.8,57.7])\n",
        "aug = np.mean([76.5,55.9])\n",
        "sep = np.mean([70.0,50.7])\n",
        "oct = np.mean([57.0,41.9])\n",
        "nov = np.mean([44.1,31.5])\n",
        "dec = np.mean([33.6,24.1])\n",
        "\n",
        "temps = {'Jan':jan, 'Feb':feb, 'Mar':mar, 'Apr':apr, 'May':may, 'Jun':jun, 'Jul':jul, 'Aug':aug, 'Sep':sep, 'Oct':oct, 'Nov':nov, 'Dec':dec}\n",
        "\n",
        "for k in temps:\n",
        "  print(k+':',\"Average Temperature:\", str(temps[k])+\"° F;\", prediction(temps[k]), \"min\")"
      ],
      "execution_count": null,
      "outputs": [
        {
          "output_type": "stream",
          "text": [
            "Jan: Average Temperature: 22.2° F; 81.46354165924485 min\n",
            "Feb: Average Temperature: 24.35° F; 75.07259498732132 min\n",
            "Mar: Average Temperature: 32.45° F; 55.18303552239061 min\n",
            "Apr: Average Temperature: 43.95° F; 35.646664445982 min\n",
            "May: Average Temperature: 56.4° F; 22.210287413674347 min\n",
            "Jun: Average Temperature: 62.75° F; 17.448533038540372 min\n",
            "Jul: Average Temperature: 68.25° F; 14.157656576438315 min\n",
            "Aug: Average Temperature: 66.2° F; 15.304632778653398 min\n",
            "Sep: Average Temperature: 60.35° F; 19.114659974068687 min\n",
            "Oct: Average Temperature: 49.45° F; 28.923533698049184 min\n",
            "Nov: Average Temperature: 37.8° F; 45.031199806195474 min\n",
            "Dec: Average Temperature: 28.85° F; 63.2728026318118 min\n"
          ],
          "name": "stdout"
        }
      ]
    }
  ]
}